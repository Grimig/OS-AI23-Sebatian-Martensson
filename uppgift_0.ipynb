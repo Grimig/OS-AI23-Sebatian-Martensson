{
 "cells": [
  {
   "cell_type": "markdown",
   "metadata": {},
   "source": [
    "## Projekt OS, "
   ]
  },
  {
   "cell_type": "markdown",
   "metadata": {},
   "source": [
    "Uppgift 0 - Uppvärmning\n",
    "\n",
    "* a. hur många länder som är med i datan?\n",
    "* b. vilka länder är med? (förkortningarna räcker)\n",
    "* c. vilka sporter är med?\n",
    "* d. vilka medaljtyper finns det?\n",
    "* e. ta reda på statistik för åldern: medelvärde, median, min, max, standardavvikelse,\n",
    "* f. utforska datan vidare med egna frågor\n",
    "* Se även till att plotta några intressanta features, exempelvis:\n",
    "* g. diagram över könsfördelningen\n",
    "* h. diagram över topp 10 länder som tagit flest medaljer\n",
    "* i. plotta gärna fler saker som är intressant.\n",
    "\n",
    "Uppgift 1 - Landstatistik\n",
    "\n",
    "hashfunktionen SHA-256.\n",
    "\n",
    "Undersök därefter hur det gått för landet i OS genom tiderna. Visualisera exempelvis:\n",
    "de sporter landet fått flest medaljer i\n",
    "antal medaljer per OS\n",
    "histogram över åldrar\n",
    "Skapa fler plots för att visualisera flera aspekter kring ert land och dess sportprestationer i OS.\n",
    "Uppgift 2 - Sportstatistik\n",
    "Välj 2-4 sporter och skapa lämpliga grafer/diagram för att visualisera exempelvis:\n",
    "medaljfördelning mellan länder i sporterna\n",
    "åldersfördelning i sporterna\n",
    "Skapa fler plots för att visualisera olika aspekter kring sporterna."
   ]
  },
  {
   "cell_type": "code",
   "execution_count": null,
   "metadata": {},
   "outputs": [],
   "source": [
    "# Index(['ID', 'Name', 'Sex', 'Age', 'Height', 'Weight', 'Team', 'NOC', 'Games',\n",
    "#'Year', 'Season', 'City', 'Sport', 'Event', 'Medal'],#\n",
    "import numpy as np\n",
    "import matplotlib.pyplot as plt\n",
    "import seaborn as sns\n",
    "import pandas as pd\n",
    "import seaborn as sns\n",
    "\n",
    "df = pd.read_csv(\"data/athlete_events.csv\")\n",
    "df_copy = df.copy()\n",
    "\n",
    "\n",
    "# Display the first 5 rows of the dataframe\n",
    "#print(df.head())\n",
    "# shape of the dataframe\n",
    "#print(\"Dataframe Shape:\", df.shape)\n",
    "# column names\n",
    "#print(\"Columns:\", df.columns)\n",
    "# data types of each column\n",
    "#print(\"Data Types:\", df.dtypes)\n",
    "# missing values\n",
    "print(\"Missing Values:\", df.isnull().sum())\n",
    "# summary statistics\n",
    "print(df.describe())"
   ]
  },
  {
   "cell_type": "markdown",
   "metadata": {},
   "source": []
  },
  {
   "cell_type": "code",
   "execution_count": null,
   "metadata": {},
   "outputs": [],
   "source": [
    "# Index(['ID', 'Name', 'Sex', 'age', 'Height', 'Weight', 'Team', 'NOC', 'Games',\n",
    "#'year', 'Season', 'City', 'sport', 'Event', 'medal'],#\n",
    "\n",
    "#print(countries_total)\n",
    "countries_total = df[\"NOC\"].nunique()\n",
    "print(f'Antal länder : {df[\"NOC\"].nunique()}\\n')\n",
    "\n",
    "# vilka länder är med\n",
    "countries_str = df[\"NOC\"].unique()\n",
    "print(f'{df[\"NOC\"].unique().tolist()}\\n')\n",
    "\n",
    "#print(countries_str.tolist())\n",
    "# vilka sporter är med\n",
    "different_sports = df[\"Sport\"].unique()\n",
    "print(f'{df[\"Sport\"].unique().tolist()}\\n')\n",
    "\n",
    "#print(different_sports.tolist())\n",
    "# vilka medaljtyper finns det\n",
    "medal_type = df[\"Medal\"].dropna().unique()\n",
    "print(f'{df[\"Medal\"].dropna().unique().tolist()}\\n')\n",
    "#print(medal_type)\n",
    "\n",
    "# e)  e. ta reda på statistik för åldern: medelvärde, median, m\n",
    "print(f'Mean age: {df[\"Age\"].mean()}')\n",
    "print(f'Median age: {df[\"Age\"].median()}')\n",
    "print(f'Mode age: {df[\"Age\"].mode()}')\n",
    "print(f'Min age: {df[\"Age\"].min()}')\n",
    "print(f'Max age: {df[\"Age\"].max()}')"
   ]
  },
  {
   "cell_type": "code",
   "execution_count": null,
   "metadata": {},
   "outputs": [],
   "source": [
    "# https://seaborn.pydata.org/tutorial/function_overview.html\n",
    "# könsfördelningen genom åren\n",
    "\n",
    "sns.kdeplot(data=df, x=(\"Year\"), hue=\"Sex\", multiple=\"stack\")\n",
    "plt.title(\"Könsfördelning genom åren\")\n",
    "plt.xlabel(\"År\")\n",
    "plt.ylabel(\"Antal\")\n",
    "\n",
    "plt.show()"
   ]
  }
 ],
 "metadata": {
  "kernelspec": {
   "display_name": "base",
   "language": "python",
   "name": "python3"
  },
  "language_info": {
   "codemirror_mode": {
    "name": "ipython",
    "version": 3
   },
   "file_extension": ".py",
   "mimetype": "text/x-python",
   "name": "python",
   "nbconvert_exporter": "python",
   "pygments_lexer": "ipython3",
   "version": "3.11.4"
  }
 },
 "nbformat": 4,
 "nbformat_minor": 2
}
