{
 "cells": [
  {
   "cell_type": "markdown",
   "metadata": {},
   "source": [
    "\n",
    "## Projekt OS, uppvärmning"
   ]
  },
  {
   "cell_type": "markdown",
   "metadata": {},
   "source": [
    "\n",
    "Uppgift 0 - Uppvärmning\n",
    "  a. hur många länder som är med i datan?\n",
    "  b. vilka länder är med? (förkortningarna räcker)\n",
    "  c. vilka sporter är med?\n",
    "  d. vilka medaljtyper finns det?\n",
    "  e. ta reda på statistik för åldern: medelvärde, median, min, max, standardavvikelse,\n",
    "  f. utforska datan vidare med egna frågor\n",
    "Se även till att plotta några intressanta features, exempelvis:\n",
    "  g. diagram över könsfördelningen\n",
    "  h. diagram över topp 10 länder som tagit flest medaljer\n",
    "  i. plotta gärna fler saker som är intressant.\n",
    "\n",
    "Uppgift 1 - Landstatistik\n",
    "\n",
    "hashfunktionen SHA-256.\n",
    "\n",
    "Undersök därefter hur det gått för landet i OS genom tiderna. Visualisera exempelvis:\n",
    "de sporter landet fått flest medaljer i\n",
    "antal medaljer per OS\n",
    "histogram över åldrar\n",
    "Skapa fler plots för att visualisera flera aspekter kring ert land och dess sportprestationer i OS.\n",
    "Uppgift 2 - Sportstatistik\n",
    "Välj 2-4 sporter och skapa lämpliga grafer/diagram för att visualisera exempelvis:\n",
    "medaljfördelning mellan länder i sporterna\n",
    "åldersfördelning i sporterna\n",
    "Skapa fler plots för att visualisera olika aspekter kring sporterna."
   ]
  },
  {
   "cell_type": "code",
   "execution_count": 325,
   "metadata": {},
   "outputs": [],
   "source": [
    "import numpy as np\n",
    "import matplotlib.pyplot as plt\n",
    "import pandas as pd\n",
    "import seaborn as sns\n",
    "\n",
    "df = pd.read_csv(\"data/athlete_events.csv\")\n",
    "\n",
    "df_copy = df.copy()\n",
    "\n",
    "\n"
   ]
  },
  {
   "cell_type": "code",
   "execution_count": 326,
   "metadata": {},
   "outputs": [],
   "source": [
    "# Index(['ID', 'Name', 'Sex', 'Age', 'Height', 'Weight', 'Team', 'NOC', 'Games',\n",
    "\n",
    "\n",
    "correlation_before = df.corr()\n",
    "# clean data\n",
    "df.dropna(inplace=True)\n",
    "df.sort_index(inplace=True)\n",
    "df.interpolate(inplace=True)\n",
    "\n",
    "correlation_before = df.corr()"
   ]
  },
  {
   "cell_type": "code",
   "execution_count": null,
   "metadata": {},
   "outputs": [],
   "source": [
    "\n",
    "# Index(['ID', 'Name', 'Sex', 'Age', 'Height', 'Weight', 'Team', 'NOC', 'Games',\n",
    "#'Year', 'Season', 'City', 'Sport', 'Event', 'Medal'],#\n",
    "\n",
    "\n",
    "countries_total = df[\"NOC\"].nunique()\n",
    "print(countries_total)\n",
    "print(f'{df[\"NOC\"].nunique()}\\n')\n",
    "\n",
    "# backslash = alt + 92 = \\n\n",
    "# b)\n",
    "# vilka länder är med\n",
    "\n",
    "countries_str = df[\"NOC\"].unique()\n",
    "print(countries_str.tolist())\n",
    "print(f'{df[\"NOC\"].unique().tolist()}\\n')\n",
    "\n",
    "# c)\n",
    "# vilka sporter är med\n",
    "different_sports = df[\"Sport\"].unique()\n",
    "print(different_sports.tolist())\n",
    "print(f'{df[\"Sport\"].unique().tolist()}\\n')\n",
    "\n",
    "# d)\n",
    "# vilka medaljtyper finns det\n",
    "medal_type = df[\"Medal\"].dropna().unique().tolist()\n",
    "print(medal_type)\n",
    "print(f'{df[\"Medal\"].dropna().unique().tolist()}\\n')\n",
    "\n",
    "\n",
    "\n",
    "# e)  e. ta reda på statistik för åldern: medelvärde, median, min, max, standardavvikelse\n",
    "methods = [\"mean\", \"median\", \"min\", \"max\", \"std\"]\n",
    "#aggregerar och rundar upp till heltal för pot.\n",
    "#göra det enklare senare\n",
    "age_stats = df[\"Age\"].agg(methods).round(int(0))\n",
    "print(age_stats)\n",
    "\n",
    "\n",
    "#vilka länder är med? (förkortningarna räcker\n",
    "# vilka sporter är med?\n",
    "\n",
    "## medal repeat, had to drop index 0"
   ]
  }
 ],
 "metadata": {
  "kernelspec": {
   "display_name": "base",
   "language": "python",
   "name": "python3"
  },
  "language_info": {
   "codemirror_mode": {
    "name": "ipython",
    "version": 3
   },
   "file_extension": ".py",
   "mimetype": "text/x-python",
   "name": "python",
   "nbconvert_exporter": "python",
   "pygments_lexer": "ipython3",
   "version": "3.11.4"
  }
 },
 "nbformat": 4,
 "nbformat_minor": 2
}
