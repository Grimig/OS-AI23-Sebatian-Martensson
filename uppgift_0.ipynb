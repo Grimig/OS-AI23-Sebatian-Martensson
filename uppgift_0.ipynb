{
 "cells": [
  {
   "cell_type": "markdown",
   "metadata": {},
   "source": [
    "## Projekt OS, "
   ]
  },
  {
   "cell_type": "markdown",
   "metadata": {},
   "source": [
    "Uppgift 0 - Uppvärmning\n",
    "\n",
    "* a. hur många länder som är med i datan?\n",
    "* b. vilka länder är med? (förkortningarna räcker)\n",
    "* c. vilka sporter är med?\n",
    "* d. vilka medaljtyper finns det?\n",
    "* e. ta reda på statistik för åldern: medelvärde, median, min, max, standardavvikelse,\n",
    "* f. utforska datan vidare med egna frågor\n",
    "* Se även till att plotta några intressanta features, exempelvis:\n",
    "* g. diagram över könsfördelningen\n",
    "* h. diagram över topp 10 länder som tagit flest medaljer\n",
    "* i. plotta gärna fler saker som är intressant.\n",
    "\n",
    "Uppgift 1 - Landstatistik\n",
    "\n",
    "hashfunktionen SHA-256.\n",
    "\n",
    "Undersök därefter hur det gått för landet i OS genom tiderna. Visualisera exempelvis:\n",
    "de sporter landet fått flest medaljer i\n",
    "antal medaljer per OS\n",
    "histogram över åldrar\n",
    "Skapa fler plots för att visualisera flera aspekter kring ert land och dess sportprestationer i OS.\n",
    "Uppgift 2 - Sportstatistik\n",
    "Välj 2-4 sporter och skapa lämpliga grafer/diagram för att visualisera exempelvis:\n",
    "medaljfördelning mellan länder i sporterna\n",
    "åldersfördelning i sporterna\n",
    "Skapa fler plots för att visualisera olika aspekter kring sporterna."
   ]
  },
  {
   "cell_type": "code",
   "execution_count": null,
   "metadata": {},
   "outputs": [],
   "source": [
    "# Index(['ID', 'Name', 'Sex', 'Age', 'Height', 'Weight', 'Team', 'NOC', 'Games',\n",
    "#'Year', 'Season', 'City', 'Sport', 'Event', 'Medal'],#\n",
    "import plotly.express as px\n",
    "import pandas as pd\n",
    "import seaborn as sns\n",
    "import matplotlib.pyplot as plt\n",
    "\n",
    "\n",
    "df = pd.read_csv(\"data/athlete_events.csv\")\n",
    "\n",
    "\n",
    "# Display the first 5 rows\n",
    "print(df.head())\n",
    "print(\"Dataframe Shape:\", str(df.shape))\n",
    "print(\"Columns:\", df.columns)\n",
    "print(\"Data Types:\", df.dtypes)\n",
    "print(\"Missing Values:\", df.isnull().sum())\n",
    "# lazy cleaning\n",
    "df[\"Age\"].fillna(df[\"Age\"].median(), inplace=True)\n",
    "df[\"Height\"].fillna(df[\"Height\"].median(), inplace=True)\n",
    "df[\"Weight\"].fillna(df[\"Weight\"].median(), inplace=True)\n",
    "\n",
    "df.info()"
   ]
  },
  {
   "cell_type": "code",
   "execution_count": null,
   "metadata": {},
   "outputs": [],
   "source": [
    "# Index(['ID', 'Name', 'Sex', 'age', 'Height', 'Weight', 'Team', 'NOC', 'Games',\n",
    "#'year', 'Season', 'City', 'sport', 'Event', 'medal'],#\n",
    "\n",
    "def aggregate_all_the_things(df):\n",
    "    \"\"\"Aggregate all the things.\"\"\"\n",
    "    return df.agg([\"mean\", \"median\", \"min\", \"max\", ])\n",
    "\n",
    "\n",
    "#print(countries_total)\n",
    "countries_total = df[\"NOC\"].nunique()\n",
    "print(f\"Antal länder : {countries_total}\\n\")\n",
    "\n",
    "# vilka länder är med\n",
    "countries_str = df[\"NOC\"].unique()\n",
    "print(f\"{countries_str.tolist()}\\n\")\n",
    "\n",
    "\n",
    "# vilka sporter är med\n",
    "different_sports = df[\"Sport\"].unique()\n",
    "print(f\"{different_sports.tolist()}\\n\")\n",
    "# print(different_sports.tolist())\n",
    "\n",
    "# vilka medaljtyper finns det\n",
    "medal_type = df[\"Medal\"].dropna().unique()\n",
    "print(f\"{medal_type.tolist()}\\n\")\n",
    "\n",
    "\n",
    "age_stats = df[\"Age\"].describe()\n",
    "print(\"Age Statistics:\\n\", age_stats, \"\\n\")\n",
    "\n",
    "medal_type = df.query\n",
    "\n",
    "height_stats = df[\"Height\"].describe()\n",
    "print(\"Height Statistics:\\n\", height_stats, \"\\n\")\n",
    "\n",
    "weight_stats = df[\"Weight\"].describe()\n",
    "print(\"Weight Statistics:\\n\", weight_stats, \"\\n\")\n",
    "\n",
    "\n",
    "country_group = df.groupby(\"NOC\").mean().reset_index()\n",
    "print(country_group.head())\n"
   ]
  },
  {
   "cell_type": "code",
   "execution_count": null,
   "metadata": {},
   "outputs": [],
   "source": [
    "#https://seaborn.pydata.org/generated/seaborn.kdeplot.html#\n",
    "#I was mostly just messing around with this one, but i found it to give a pretty good overall view.\n",
    "\n",
    "sns.pairplot(df, hue='Sex', diag_kind='kde', plot_kws={'alpha': 0.6}, height=2.5, corner=True, aspect=1, kind='scatter', diag_kws={'bw_method': 0.2}, )\n",
    "plt.show()\n",
    "grouped_df = df.groupby('Games')['Age'].mean().reset_index()\n"
   ]
  },
  {
   "cell_type": "code",
   "execution_count": null,
   "metadata": {},
   "outputs": [],
   "source": [
    "#scatterplot showcasing the height and weight of all participants.\n",
    "scatter_plot = px.scatter(df, template='plotly_dark' , x='Weight', y='Height', color='Sex', hover_data=['Name']+['Sport'], title='Scatter plot of athlete height and weight', labels='Scatter plot of athlete height and weight')\n",
    "scatter_plot.show()\n",
    "\n",
    "\n",
    "#line-plot showing the mean value of age over the years for the participants\n",
    "grouped_df = df.groupby('Games')['Age'].mean().reset_index().sort_values('Games', ascending=True)\n",
    "line_plot = px.line(grouped_df, template='plotly_dark', x='Games', y='Age', title='Line plot of mean age over the years')\n",
    "line_plot.show()\n",
    "\n",
    "\n",
    "#histaogram\n",
    "histogram = px.histogram(df, x='Age', template='plotly_dark' , nbins=50, title='Histogram of Age')\n",
    "histogram.update_xaxes(title='Age')\n",
    "histogram.update_yaxes(title='Total Participants')\n",
    "histogram.show()"
   ]
  },
  {
   "cell_type": "code",
   "execution_count": null,
   "metadata": {},
   "outputs": [],
   "source": [
    "\n",
    "#top_10 = df.groupby('NOC')['Medal'].count().sort_values(ascending=False).head(10)\n",
    "#print(top_10)\n",
    "\n",
    "plt.figure(figsize=(10, 6))\n",
    "sns.countplot(x='NOC', data=df, order=df['NOC'].value_counts().iloc[:10].index)\n",
    "plt.title('Top ten countries with accumulated olympic medals')\n",
    "plt.xlabel('Country')\n",
    "plt.ylabel('Medals')\n",
    "plt.show()"
   ]
  }
 ],
 "metadata": {
  "kernelspec": {
   "display_name": "base",
   "language": "python",
   "name": "python3"
  },
  "language_info": {
   "codemirror_mode": {
    "name": "ipython",
    "version": 3
   },
   "file_extension": ".py",
   "mimetype": "text/x-python",
   "name": "python",
   "nbconvert_exporter": "python",
   "pygments_lexer": "ipython3",
   "version": "3.11.4"
  }
 },
 "nbformat": 4,
 "nbformat_minor": 2
}
