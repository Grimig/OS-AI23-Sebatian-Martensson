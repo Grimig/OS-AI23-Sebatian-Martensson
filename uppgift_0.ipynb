{
 "cells": [
  {
   "cell_type": "markdown",
   "metadata": {},
   "source": [
    "\n",
    "## Projekt OS, uppvärmning"
   ]
  },
  {
   "cell_type": "markdown",
   "metadata": {},
   "source": [
    "\n",
    "Uppgift 0 - Uppvärmning\n",
    "  a. hur många länder som är med i datan?\n",
    "  b. vilka länder är med? (förkortningarna räcker)\n",
    "  c. vilka sporter är med?\n",
    "  d. vilka medaljtyper finns det?\n",
    "  e. ta reda på statistik för åldern: medelvärde, median, min, max, standardavvikelse,\n",
    "  f. utforska datan vidare med egna frågor\n",
    "Se även till att plotta några intressanta features, exempelvis:\n",
    "  g. diagram över könsfördelningen\n",
    "  h. diagram över topp 10 länder som tagit flest medaljer\n",
    "  i. plotta gärna fler saker som är intressant.\n",
    "\n",
    "Uppgift 1 - Landstatistik\n",
    "\n",
    "hashfunktionen SHA-256.\n",
    "\n",
    "Undersök därefter hur det gått för landet i OS genom tiderna. Visualisera exempelvis:\n",
    "de sporter landet fått flest medaljer i\n",
    "antal medaljer per OS\n",
    "histogram över åldrar\n",
    "Skapa fler plots för att visualisera flera aspekter kring ert land och dess sportprestationer i OS.\n",
    "Uppgift 2 - Sportstatistik\n",
    "Välj 2-4 sporter och skapa lämpliga grafer/diagram för att visualisera exempelvis:\n",
    "medaljfördelning mellan länder i sporterna\n",
    "åldersfördelning i sporterna\n",
    "Skapa fler plots för att visualisera olika aspekter kring sporterna."
   ]
  },
  {
   "cell_type": "code",
   "execution_count": 212,
   "metadata": {},
   "outputs": [],
   "source": [
    "#\n",
    "# Index(['ID', 'Name', 'Sex', 'Age', 'Height', 'Weight', 'Team', 'NOC', 'Games',\n",
    "import numpy as np\n",
    "import matplotlib.pyplot as plt\n",
    "import seaborn as sns\n",
    "import pandas as pd\n",
    "import seaborn as sns\n",
    "\n",
    "\n",
    "df = pd.read_csv(\"data/athlete_events.csv\").copy()\n",
    "df.copy()   # make a copy of the dataframe\n",
    "\n",
    "df = df.dropna()\n",
    "\n",
    "#correlation_matrix = df.corr() # compute correlation matrix\n",
    "\n",
    "#sns.pairplot(df)\n",
    "#plt.show()\n",
    "\n"
   ]
  },
  {
   "cell_type": "code",
   "execution_count": null,
   "metadata": {},
   "outputs": [],
   "source": [
    "# Index(['ID', 'Name', 'Sex', 'Age', 'Height', 'Weight', 'Team', 'NOC', 'Games',\n",
    "#'Year', 'Season', 'City', 'Sport', 'Event', 'Medal'],#\n",
    "# a. hur många länder som är med i datan?  b. vilka länder är med? (förkortningarna räcker)  c. vilka sporter är med?  d. vilka medaljtyper finns det?  e. ta reda på statistik för åldern: medelvärde, median, min, max, standardavvikelse,  f. utforska datan vidare med egna frågorSe även till att plotta några\n",
    "# grafer som visar något intressant om datan.  g. skriv en kort rapport om vad du hittat i datan, och vad du kan tänka dig att använda den till.\n",
    "\n",
    "# print(f'{df[\"Medal\"].dropna().unique().tolist()}')\n",
    "# print(f'{df[\"Sport\"].unique().tolist()}')\n",
    "# print(f'{df[\"NOC\"].unique()}')\n",
    "\n",
    "list_of_countries = df[\"NOC\"].unique()\n",
    "sum_of_countries = list_of_countries.size  # == df[\"NOC\"].nunique()\n",
    "list_of_sports = df[\"Sport\"].unique()\n",
    "list_medal_types = df[\"Medal\"].dropna().unique().tolist()\n",
    "\n",
    "# backslash alt + 92 = \\\n",
    "\n",
    "\n",
    "# a. hur många länder som är med i datan?\n",
    "print(f\" There is a total amount of\\n:  {list_of_countries.size}\")\n",
    "\n",
    "\n",
    "# b)\n",
    "#   vilka länder är med? (förkortningarna räcker)\n",
    "\n",
    "\n",
    "# c)\n",
    "# vilka sporter är med?\n",
    "\n",
    "## medal repeat, had to drop index 0"
   ]
  }
 ],
 "metadata": {
  "kernelspec": {
   "display_name": "base",
   "language": "python",
   "name": "python3"
  },
  "language_info": {
   "codemirror_mode": {
    "name": "ipython",
    "version": 3
   },
   "file_extension": ".py",
   "mimetype": "text/x-python",
   "name": "python",
   "nbconvert_exporter": "python",
   "pygments_lexer": "ipython3",
   "version": "3.11.4"
  }
 },
 "nbformat": 4,
 "nbformat_minor": 2
}
