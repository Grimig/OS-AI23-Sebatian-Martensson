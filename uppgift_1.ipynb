{
 "cells": [
  {
   "cell_type": "markdown",
   "metadata": {},
   "source": [
    "# Uppgift 1 \n",
    "\n",
    "-Ni får ett land tilldelat till er grupp. Börja med att anonymisera kolumnen med idrottarnas namn -medhashfunktionen SHA-256\n",
    "\n",
    "-Undersök därefter hur det gått för landet i OS genom tiderna. Visualisera exempelvis:de sporter landet -fått flest medaljer i antal medaljer per Shistogram över åldrarSkapa fler plots för att visualisera flera -aspekter kring ert land och dess sportprestationer i OS."
   ]
  },
  {
   "cell_type": "code",
   "execution_count": 4,
   "metadata": {},
   "outputs": [
    {
     "name": "stdout",
     "output_type": "stream",
     "text": [
      "219    Venezuela\n",
      "Name: region, dtype: object\n"
     ]
    }
   ],
   "source": [
    "###The Randomizer###\n",
    "import pandas as pd\n",
    "df_land = pd.read_csv(\"data/noc_regions.csv\")\n",
    "# random country\n",
    "df_land.head(10)\n",
    "\n",
    "\n",
    "my_country = print(df_land[\"region\"].sample(1))\n",
    "## Iceland ##Iceland ## Iceland ## Iceland ## Iceland"
   ]
  },
  {
   "cell_type": "code",
   "execution_count": null,
   "metadata": {},
   "outputs": [],
   "source": [
    "# https://towardsdatascience.com/anonymise-sensitive-data-in-a-pandas-dataframe-column-with-hashlib-8e7ef397d91f\n",
    "#############################################\n",
    "\n",
    "#Jag kopierade mer eller mindre sha256-koden#\n",
    "\n",
    "#############################################\n",
    "import seaborn as sns\n",
    "import pandas as pd\n",
    "import hashlib\n",
    "import numpy as np\n",
    "import matplotlib.pyplot as plt\n",
    "\n",
    "df = pd.read_csv(\"data/athlete_events.csv\")\n",
    "df_copy = df.copy()\n",
    "\n",
    "\n",
    "\n",
    "#lazy\n",
    "df[\"Age\"].fillna(df[\"Age\"].median(), inplace=True)\n",
    "df[\"Height\"].fillna(df[\"Height\"].median(), inplace=True)\n",
    "df[\"Weight\"].fillna(df[\"Weight\"].median(), inplace=True)\n",
    "\n",
    "df_copy['Name'] = df_copy['Name'].apply(hash_name\n",
    "# Display first few to verify the anonymization\n",
    "df_copy = df_copy.dropna(subset=['Name']))\n",
    "\n",
    "def hash_name(name):\n",
    "    return hashlib.sha256(name.encode()).hexdigest()\n",
    "# Applying SHA-256 to anonymize the names\n",
    "# Display to verify the anonymization\n",
    "df_copy.head(10)"
   ]
  },
  {
   "cell_type": "code",
   "execution_count": null,
   "metadata": {},
   "outputs": [],
   "source": [
    "\n",
    "iceland_data = df_copy[df_copy['NOC'] == 'ISL']\n",
    "\n",
    "# Filtering out only the rows with medals\n",
    "iceland_medals = iceland_data[iceland_data['Medal'].notna()]\n",
    "# Counting medals by sport\n",
    "medals_by_sport = iceland_medals['Sport'].value_counts()\n",
    "# Counting medals by Olympic Games\n",
    "medals_by_games = iceland_medals.groupby('Games')['Medal'].count()\n",
    "# Counting medals by placement\n",
    "medals_by_placement = iceland_medals['Medal'].value_counts()\n",
    "iceland_age_ranges = iceland_data['Age'].astype(int).value_counts()\n",
    "\n",
    "\n",
    "#medals won by iceland\n",
    "plt.subplot\n",
    "sns.barplot(x=medals_by_sport.index, y=medals_by_sport.values)\n",
    "plt.title(\"Medals by Sport\")\n",
    "plt.xlabel(\"Sport\")\n",
    "plt.ylabel(\"Medals\")\n",
    "plt.show()\n",
    "\n",
    "#during what games did iceland win\n",
    "sns.barplot(x=medals_by_games.index, y=medals_by_games.values)\n",
    "plt.title(\"Medals by Games\")\n",
    "plt.xlabel(\"Games\")\n",
    "plt.ylabel(\"Medals\")\n",
    "plt.show()\n",
    "\n",
    "#what medals did iceland win\n",
    "sns.barplot(x=medals_by_placement.index, y=medals_by_placement.values)\n",
    "plt.title(\"Medals by Placement\")\n",
    "plt.xlabel(\"Placement\")\n",
    "plt.ylabel(\"Medals\")\n",
    "plt.show()\n",
    "\n",
    "#the averag age of iclandian athletes in the olympics\n",
    "sns.barplot(x=iceland_age_ranges.index, y=iceland_age_ranges.values)\n",
    "plt.title(\"Ages of Icelandic medal winner in Olympics Games\")\n",
    "plt.xlabel(\"Age\")\n",
    "plt.ylabel(\"Amount of athletes\")\n"
   ]
  }
 ],
 "metadata": {
  "kernelspec": {
   "display_name": "base",
   "language": "python",
   "name": "python3"
  },
  "language_info": {
   "codemirror_mode": {
    "name": "ipython",
    "version": 3
   },
   "file_extension": ".py",
   "mimetype": "text/x-python",
   "name": "python",
   "nbconvert_exporter": "python",
   "pygments_lexer": "ipython3",
   "version": "3.11.4"
  }
 },
 "nbformat": 4,
 "nbformat_minor": 2
}
