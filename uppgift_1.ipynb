{
 "cells": [
  {
   "cell_type": "markdown",
   "metadata": {},
   "source": [
    "# Uppgift 1 \n",
    "\n",
    "-Ni får ett land tilldelat till er grupp. Börja med att anonymisera kolumnen med idrottarnas namn -medhashfunktionen SHA-256\n",
    "\n",
    "-Undersök därefter hur det gått för landet i OS genom tiderna. Visualisera exempelvis:de sporter landet -fått flest medaljer i antal medaljer per Shistogram över åldrarSkapa fler plots för att visualisera flera -aspekter kring ert land och dess sportprestationer i OS."
   ]
  },
  {
   "cell_type": "code",
   "execution_count": null,
   "metadata": {},
   "outputs": [],
   "source": [
    "###The Randomizer###\n",
    "import pandas as pd\n",
    "df_land = pd.read_csv(\"data/noc_regions.csv\")\n",
    "# random country\n",
    "df_land.head(10)\n",
    "\n",
    "\n",
    "my_country = print(df_land[\"region\"].sample(1)) ## Iceland\n",
    "\n"
   ]
  },
  {
   "cell_type": "code",
   "execution_count": null,
   "metadata": {},
   "outputs": [],
   "source": [
    "# https://towardsdatascience.com/anonymise-sensitive-data-in-a-pandas-dataframe-column-with-hashlib-8e7ef397d91f\n",
    "# Jag kopierade mer eller mindre sha256-koden.\n",
    "import seaborn as sns\n",
    "import pandas as pd\n",
    "import hashlib\n",
    "import numpy as np\n",
    "import matplotlib.pyplot as plt\n",
    "\n",
    "def hash_name(name):\n",
    "    return hashlib.sha256(name.encode()).hexdigest()\n",
    "\n",
    "\n",
    "df = pd.read_csv(\"data/athlete_events.csv\")\n",
    "df_copy = df.copy()\n",
    "\n",
    "# Applying SHA-256 to anonymize the names\n",
    "# Display first few to verify the anonymization\n",
    "df_copy = df_copy.dropna(subset=['Name'])\n",
    "df_copy['Name'] = df_copy['Name'].apply(hash_name)\n",
    "\n",
    "# Display to verify the anonymization\n",
    "df_copy.head(10)"
   ]
  },
  {
   "cell_type": "code",
   "execution_count": null,
   "metadata": {},
   "outputs": [],
   "source": [
    "iceland_data = df_copy[df_copy['NOC'] == 'ISL']\n",
    "\n",
    "# Filtering out only the rows with medals\n",
    "iceland_medals = iceland_data[iceland_data['Medal'].notna()]\n",
    "# Counting medals by sport\n",
    "medals_by_sport = iceland_medals['Sport'].value_counts()\n",
    "# Counting medals by Olympic Games\n",
    "medals_by_games = iceland_medals.groupby('Games')['Medal'].count()\n",
    "# Counting medals by placement\n",
    "medals_by_placement = iceland_medals['Medal'].value_counts()\n",
    "\n",
    "iceland_age_ranges = iceland_data['Age'].value_counts().sort_index()\n",
    "\n",
    "# Displaying the results\n",
    "\n",
    "for medals in medals_by_sport, iceland_age_ranges, medals_by_games, medals_by_placement, iceland_medals :\n",
    "    sns.set(font='sans-serif', style='darkgrid', font_scale=2 , rc={'figure.figsize':(15, 10)})\n",
    "    sns.set_theme(palette='deep')\n",
    "    sns.set_context('notebook', font_scale=1.5, rc={'lines.linewidth': 2.5})\n",
    "    sns.barplot(x=medals.index, y=medals.values)\n",
    "    plt.show()\n",
    "\n"
   ]
  }
 ],
 "metadata": {
  "kernelspec": {
   "display_name": "base",
   "language": "python",
   "name": "python3"
  },
  "language_info": {
   "codemirror_mode": {
    "name": "ipython",
    "version": 3
   },
   "file_extension": ".py",
   "mimetype": "text/x-python",
   "name": "python",
   "nbconvert_exporter": "python",
   "pygments_lexer": "ipython3",
   "version": "3.11.4"
  }
 },
 "nbformat": 4,
 "nbformat_minor": 2
}
