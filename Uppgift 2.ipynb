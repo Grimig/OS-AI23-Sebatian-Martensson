{
 "cells": [
  {
   "cell_type": "markdown",
   "metadata": {},
   "source": [
    "### Uppgift 2 \n",
    "- Sportstatistik Välj 2-4 sporter och skapa lämpliga grafer/diagram för att visualisera exempelvis: \n",
    "medaljfördelning mellan länder i sporterna åldersfördelning i sporterna Skapa fler plots för att visualisera olika aspekter kring sporterna."
   ]
  },
  {
   "cell_type": "code",
   "execution_count": null,
   "metadata": {},
   "outputs": [],
   "source": [
    "import matplotlib.pyplot as plt\n",
    "import seaborn as sns\n",
    "import matplotlib.pyplot as plt\n",
    "import pandas as pd\n",
    "\n",
    "\n",
    "df = pd.read_csv('athlete_events.csv')\n",
    "\n",
    "# Selecting only the relevant columns\n",
    "df = df[['ID', 'Name', 'Sex', 'Age', 'Height', 'Weight', 'Team', 'NOC', 'Games', 'Year', 'Season', 'City', 'Sport', 'Event', 'Medal']]\n",
    "\n",
    "df = df.copy()\n",
    "\n",
    "# Selecting a few sports for analysis\n",
    "selected_sports = ['Basketball', 'Judo', 'Speed Skating', 'Football']\n",
    "\n",
    "# Filtering the data to include only selected sports\n",
    "df = df[df['Sport'].isin(selected_sports)].reset_index(drop=True)\n",
    "print(df.head())\n",
    "\n",
    "# Creating a dictionary that maps every sport to its color\n",
    "colors = {'Basketball': 'blue', 'Judo': 'green', 'Speed Skating': 'orange', 'Football': 'red'}\n",
    "\n",
    "#check the age group sizes in the the chosen sports\n",
    "df['Age'].value_counts().head()\n",
    "df = df[df['Sport'].isin(selected_sports)]\n",
    "\n",
    "plt.figure(figsize=(10, 6))\n",
    "sns.violinplot(x='Sport', y='Age', data=df, palette=colors)\n",
    "plt.title('Distribution of Age by Sport')\n",
    "plt.xlabel('Sport')\n",
    "plt.ylabel('Age')\n",
    "plt.show()\n",
    "\n",
    "\n",
    "\n",
    "# Group the data by country and count the number of medals for each country\n",
    "country_medals = df.groupby('NOC')['Medal'].count().reset_index()\n",
    "# Sort the countries by the number of medals in descending order\n",
    "country_medals = country_medals.sort_values('Medal', ascending=False)\n",
    "top_10_countries = country_medals.head(10)\n",
    "plt.bar(top_10_countries['NOC'], top_10_countries['Medal'])\n",
    "plt.xlabel('NOC')\n",
    "plt.ylabel('Number of Medals')\n",
    "plt.title('Top 10 Countries with the Most Medals')\n",
    "plt.show()\n"
   ]
  }
 ],
 "metadata": {
  "kernelspec": {
   "display_name": "base",
   "language": "python",
   "name": "python3"
  },
  "language_info": {
   "codemirror_mode": {
    "name": "ipython",
    "version": 3
   },
   "file_extension": ".py",
   "mimetype": "text/x-python",
   "name": "python",
   "nbconvert_exporter": "python",
   "pygments_lexer": "ipython3",
   "version": "3.10.6"
  }
 },
 "nbformat": 4,
 "nbformat_minor": 2
}
